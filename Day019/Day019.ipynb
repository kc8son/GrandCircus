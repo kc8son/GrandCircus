{
 "cells": [
  {
   "cell_type": "code",
   "execution_count": 2,
   "metadata": {},
   "outputs": [
    {
     "name": "stdout",
     "output_type": "stream",
     "text": [
      "/bin/bash\r\n"
     ]
    }
   ],
   "source": [
    "\n",
    "#############################################################################\n",
    "#\n",
    "#   conda is installed under zsh...\n",
    "#.  In bash, run zsh, then run:\n",
    "#.      conda install pyarrow\n",
    "#.      conda install fastparquet\n",
    "#\n",
    "# - but, that didn't work.  I am trying to run undersudo.\n",
    "#\n",
    "#.  Need to import some other librareis...\n",
    "# !conda install pandas\n",
    "# !zsh \n",
    "# !conda install pyarrow\n",
    "# !zsh \n",
    "# !conda install fastparquet\n",
    "# !which conda\n",
    "# !which pip3\n",
    "!echo $SHELL"
   ]
  },
  {
   "cell_type": "code",
   "execution_count": null,
   "metadata": {},
   "outputs": [],
   "source": [
    "#   imports\n",
    "import pandas as pd\n"
   ]
  },
  {
   "cell_type": "code",
   "execution_count": null,
   "metadata": {},
   "outputs": [],
   "source": [
    "#   Variables\n",
    "csv_path = \"./wta_matches_2022/wta_matches_2022.csv\"\n",
    "tsv_path = \"./wta_matches_2022/wta_matches_2022.tsv\"\n",
    "xls_path = \"./wta_matches_2022/wta_matches_2022.xlsx\"\n",
    "parquet_path = \"./wta_matches_2022/wta_matches_2022.parquet\"\n"
   ]
  },
  {
   "cell_type": "code",
   "execution_count": null,
   "metadata": {},
   "outputs": [],
   "source": [
    "#   Functions\n",
    "def q1():\n",
    "    \"\"\"Download the wta_matches_2022.csv file. Read the file into a DataFrame and\n",
    "    display the first five rows.\"\"\"\n",
    "    df_csv = pd.read_csv(csv_path)\n",
    "    print(df_csv.head(5))\n",
    "    return\n",
    "\n",
    "\n",
    "def q2():\n",
    "    \"\"\"Download the wta_matches_2022.tsv file. Read the file into a DataFrame and display the\n",
    "    first five rows. (Note this is a tab separated file, meaning it uses the tab character as\n",
    "    a delimiter.)\"\"\"\n",
    "    df_tsv = pd.read_csv(tsv_path, sep=\"\\t\")\n",
    "    print(df_tsv.head(5))\n",
    "    return\n",
    "\n",
    "def q3():\n",
    "    \"\"\"Read the wta_matches_2022.xlsx file into a DataFrame and display the last five rows.\"\"\"\n",
    "    df_xls = pd.read_excel(xls_path)\n",
    "    print(df_xls.head(5))\n",
    "    return\n",
    "\n",
    "\n",
    "def q4():\n",
    "    \"\"\"Read the wta_matches_2022.parquet file into a DataFrame and use the .describe()\n",
    "    function to describe the dataset.\"\"\"\n",
    "    print(parquet_path)\n",
    "    df_parquet = pd.read_parquet(parquet_path)\n",
    "    print(df_parquet.describe())\n",
    "    return\n"
   ]
  },
  {
   "cell_type": "code",
   "execution_count": null,
   "metadata": {},
   "outputs": [],
   "source": [
    "%time\n",
    "q1()"
   ]
  },
  {
   "cell_type": "code",
   "execution_count": null,
   "metadata": {},
   "outputs": [],
   "source": [
    "%time\n",
    "q2()"
   ]
  },
  {
   "cell_type": "code",
   "execution_count": null,
   "metadata": {},
   "outputs": [],
   "source": [
    "%time\n",
    "q3()"
   ]
  },
  {
   "cell_type": "code",
   "execution_count": null,
   "metadata": {},
   "outputs": [],
   "source": [
    "%ls ./wta_matches_2022/\n",
    "print()\n",
    "q4()\n",
    "\n",
    "# "
   ]
  },
  {
   "cell_type": "code",
   "execution_count": null,
   "metadata": {},
   "outputs": [],
   "source": []
  }
 ],
 "metadata": {
  "kernelspec": {
   "display_name": "Python 3",
   "language": "python",
   "name": "python3"
  },
  "language_info": {
   "codemirror_mode": {
    "name": "ipython",
    "version": 3
   },
   "file_extension": ".py",
   "mimetype": "text/x-python",
   "name": "python",
   "nbconvert_exporter": "python",
   "pygments_lexer": "ipython3",
   "version": "3.7.6"
  }
 },
 "nbformat": 4,
 "nbformat_minor": 4
}
