{
 "cells": [
  {
   "cell_type": "code",
   "execution_count": 1,
   "id": "7a4935e3-716b-42d9-9b24-eccbf8e95a75",
   "metadata": {},
   "outputs": [],
   "source": [
    "# !pip install fastapi"
   ]
  },
  {
   "cell_type": "code",
   "execution_count": 2,
   "id": "427467be-6478-4e08-88de-c146b8faa023",
   "metadata": {},
   "outputs": [],
   "source": [
    "# !pip install uvicorn"
   ]
  },
  {
   "cell_type": "code",
   "execution_count": 2,
   "id": "e4fb3835-ca0a-42f8-a5cc-3dc45addf00e",
   "metadata": {},
   "outputs": [],
   "source": [
    "# from fastapi import FastAPI   #   a python class providing all API functionality\n",
    "# app = FastAPI()\n",
    "\n",
    "# #  Using a decorator...\n",
    "# #  Tell FastAPI that the function\n",
    "# @app.get(\"/\")\n",
    "# def root():\n",
    "#     return {'example': 'This is an example API', 'data': 1000}\n",
    "\n"
   ]
  },
  {
   "cell_type": "code",
   "execution_count": 3,
   "id": "5e397d86-8678-412c-a42c-f905e91a1088",
   "metadata": {},
   "outputs": [],
   "source": [
    "# !uvicorn main:app --reload --port 8001"
   ]
  },
  {
   "cell_type": "code",
   "execution_count": 4,
   "id": "f00785de-737c-43c1-abb0-fc6b5011fda1",
   "metadata": {},
   "outputs": [
    {
     "name": "stdout",
     "output_type": "stream",
     "text": [
      "{'example': 'This is an example API', 'data': 88878}\n"
     ]
    }
   ],
   "source": [
    "import requests\n",
    "\n",
    "request = requests.get('http://127.0.0.1:8000')\n",
    "print(request.json())"
   ]
  },
  {
   "cell_type": "code",
   "execution_count": null,
   "id": "ce0bdf95-9ae5-446b-a74d-45797f991ef3",
   "metadata": {},
   "outputs": [],
   "source": []
  },
  {
   "cell_type": "code",
   "execution_count": null,
   "id": "b0c7e3d2-b67b-439f-a1dc-f2cfe4f10fea",
   "metadata": {},
   "outputs": [],
   "source": []
  }
 ],
 "metadata": {
  "kernelspec": {
   "display_name": "Python 3 (ipykernel)",
   "language": "python",
   "name": "python3"
  },
  "language_info": {
   "codemirror_mode": {
    "name": "ipython",
    "version": 3
   },
   "file_extension": ".py",
   "mimetype": "text/x-python",
   "name": "python",
   "nbconvert_exporter": "python",
   "pygments_lexer": "ipython3",
   "version": "3.10.9"
  }
 },
 "nbformat": 4,
 "nbformat_minor": 5
}
