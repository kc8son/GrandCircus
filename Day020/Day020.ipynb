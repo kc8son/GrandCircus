{
 "cells": [
  {
   "cell_type": "markdown",
   "metadata": {},
   "source": [
    "\n",
    "# Day 20: Student Grades - Descriptive Statistics\n",
    "\n",
    "[Requirements documentation](https://docs.google.com/document/d/1KUJ0mc4Ioz65jiGHGdkl1yQic8zIF7iijadtulodUvQ/edit#heading=h.rfelkkkw1wcf)\n",
    "\n",
    "Date Written: 04/13/2023\n",
    "Author: Joseph P. Merten\n"
   ]
  },
  {
   "cell_type": "markdown",
   "metadata": {},
   "source": [
    "\n",
    "### Import required libraries.  In this case pandas...\n"
   ]
  },
  {
   "cell_type": "code",
   "execution_count": 54,
   "metadata": {},
   "outputs": [],
   "source": [
    "import pandas as pd\n",
    "import statistics"
   ]
  },
  {
   "cell_type": "markdown",
   "metadata": {},
   "source": [
    "\n",
    "### Set up a dictionary with the student data and convert it to a data frame.\n"
   ]
  },
  {
   "cell_type": "code",
   "execution_count": 55,
   "metadata": {},
   "outputs": [
    {
     "data": {
      "text/html": [
       "<div>\n",
       "<style scoped>\n",
       "    .dataframe tbody tr th:only-of-type {\n",
       "        vertical-align: middle;\n",
       "    }\n",
       "\n",
       "    .dataframe tbody tr th {\n",
       "        vertical-align: top;\n",
       "    }\n",
       "\n",
       "    .dataframe thead th {\n",
       "        text-align: right;\n",
       "    }\n",
       "</style>\n",
       "<table border=\"1\" class=\"dataframe\">\n",
       "  <thead>\n",
       "    <tr style=\"text-align: right;\">\n",
       "      <th></th>\n",
       "      <th>Name</th>\n",
       "      <th>Math</th>\n",
       "      <th>Science</th>\n",
       "      <th>Reading</th>\n",
       "      <th>History</th>\n",
       "    </tr>\n",
       "  </thead>\n",
       "  <tbody>\n",
       "    <tr>\n",
       "      <th>0</th>\n",
       "      <td>Adam</td>\n",
       "      <td>11.0</td>\n",
       "      <td>9.0</td>\n",
       "      <td>16.0</td>\n",
       "      <td>13.5</td>\n",
       "    </tr>\n",
       "    <tr>\n",
       "      <th>1</th>\n",
       "      <td>Anna</td>\n",
       "      <td>12.0</td>\n",
       "      <td>11.0</td>\n",
       "      <td>8.5</td>\n",
       "      <td>10.0</td>\n",
       "    </tr>\n",
       "    <tr>\n",
       "      <th>2</th>\n",
       "      <td>James</td>\n",
       "      <td>11.0</td>\n",
       "      <td>18.0</td>\n",
       "      <td>11.5</td>\n",
       "      <td>9.0</td>\n",
       "    </tr>\n",
       "    <tr>\n",
       "      <th>3</th>\n",
       "      <td>Corey</td>\n",
       "      <td>7.0</td>\n",
       "      <td>15.5</td>\n",
       "      <td>11.0</td>\n",
       "      <td>14.0</td>\n",
       "    </tr>\n",
       "    <tr>\n",
       "      <th>4</th>\n",
       "      <td>Alisha</td>\n",
       "      <td>9.5</td>\n",
       "      <td>12.0</td>\n",
       "      <td>10.5</td>\n",
       "      <td>14.0</td>\n",
       "    </tr>\n",
       "    <tr>\n",
       "      <th>5</th>\n",
       "      <td>Jodie</td>\n",
       "      <td>15.0</td>\n",
       "      <td>18.5</td>\n",
       "      <td>7.0</td>\n",
       "      <td>12.0</td>\n",
       "    </tr>\n",
       "    <tr>\n",
       "      <th>6</th>\n",
       "      <td>John</td>\n",
       "      <td>18.0</td>\n",
       "      <td>15.5</td>\n",
       "      <td>11.0</td>\n",
       "      <td>7.5</td>\n",
       "    </tr>\n",
       "  </tbody>\n",
       "</table>\n",
       "</div>"
      ],
      "text/plain": [
       "     Name  Math  Science  Reading  History\n",
       "0    Adam  11.0      9.0     16.0     13.5\n",
       "1    Anna  12.0     11.0      8.5     10.0\n",
       "2   James  11.0     18.0     11.5      9.0\n",
       "3   Corey   7.0     15.5     11.0     14.0\n",
       "4  Alisha   9.5     12.0     10.5     14.0\n",
       "5   Jodie  15.0     18.5      7.0     12.0\n",
       "6    John  18.0     15.5     11.0      7.5"
      ]
     },
     "execution_count": 55,
     "metadata": {},
     "output_type": "execute_result"
    }
   ],
   "source": [
    "student_data = {\n",
    "    \"Name\": [\"Adam\", \"Anna\", \"James\", \"Corey\", \"Alisha\", \"Jodie\", \"John\"],\n",
    "    \"Math\": [11, 12, 11, 7, 9.5, 15, 18],\n",
    "    \"Science\": [9, 11, 18, 15.5, 12, 18.5, 15.5],\n",
    "    \"Reading\": [16, 8.5, 11.5, 11, 10.5, 7, 11],\n",
    "    \"History\": [13.5, 10, 9, 14, 14, 12, 7.5]\n",
    "}\n",
    "student_df = pd.DataFrame.from_dict(student_data)\n",
    "  \n",
    "student_df"
   ]
  },
  {
   "cell_type": "markdown",
   "metadata": {},
   "source": [
    "\n",
    "### Convert this dictionary to a data frame.\n"
   ]
  },
  {
   "cell_type": "markdown",
   "metadata": {},
   "source": [
    "\n",
    "### Question 1:\n",
    "\n",
    "Consider the following midterm grades for students taking math, science, reading, and history (each grade is calculated out of a maximum of 20 points).  \n",
    "\n",
    "1. Calculate the mean for each individual subject.\n",
    "1. Find the median grade in Math for all students.\n",
    "1. Calculate the mode for History.\n"
   ]
  },
  {
   "cell_type": "code",
   "execution_count": 56,
   "metadata": {},
   "outputs": [
    {
     "data": {
      "text/plain": [
       "Math       11.928571\n",
       "Science    14.214286\n",
       "Reading    10.785714\n",
       "History    11.428571\n",
       "dtype: float64"
      ]
     },
     "execution_count": 56,
     "metadata": {},
     "output_type": "execute_result"
    }
   ],
   "source": [
    " student_df[[\"Math\", \"Science\", \"Reading\", \"History\"]].mean()"
   ]
  },
  {
   "cell_type": "markdown",
   "metadata": {},
   "source": [
    "\n",
    "### Question 2:\n",
    "\n",
    "Given the following grades from Question 1, calculate the correlation between the different subjects. What two subjects have the strongest correlation?\n",
    "\n",
    "A) Math and science have the strongest correlation at 0.269.  I find the negative correlation between math & reading interesting."
   ]
  },
  {
   "cell_type": "code",
   "execution_count": 57,
   "metadata": {},
   "outputs": [
    {
     "data": {
      "text/html": [
       "<div>\n",
       "<style scoped>\n",
       "    .dataframe tbody tr th:only-of-type {\n",
       "        vertical-align: middle;\n",
       "    }\n",
       "\n",
       "    .dataframe tbody tr th {\n",
       "        vertical-align: top;\n",
       "    }\n",
       "\n",
       "    .dataframe thead th {\n",
       "        text-align: right;\n",
       "    }\n",
       "</style>\n",
       "<table border=\"1\" class=\"dataframe\">\n",
       "  <thead>\n",
       "    <tr style=\"text-align: right;\">\n",
       "      <th></th>\n",
       "      <th>Math</th>\n",
       "      <th>Science</th>\n",
       "      <th>Reading</th>\n",
       "      <th>History</th>\n",
       "    </tr>\n",
       "  </thead>\n",
       "  <tbody>\n",
       "    <tr>\n",
       "      <th>Math</th>\n",
       "      <td>1.000000</td>\n",
       "      <td>0.269494</td>\n",
       "      <td>-0.268562</td>\n",
       "      <td>-0.718358</td>\n",
       "    </tr>\n",
       "    <tr>\n",
       "      <th>Science</th>\n",
       "      <td>0.269494</td>\n",
       "      <td>1.000000</td>\n",
       "      <td>-0.527606</td>\n",
       "      <td>-0.358688</td>\n",
       "    </tr>\n",
       "    <tr>\n",
       "      <th>Reading</th>\n",
       "      <td>-0.268562</td>\n",
       "      <td>-0.527606</td>\n",
       "      <td>1.000000</td>\n",
       "      <td>0.206794</td>\n",
       "    </tr>\n",
       "    <tr>\n",
       "      <th>History</th>\n",
       "      <td>-0.718358</td>\n",
       "      <td>-0.358688</td>\n",
       "      <td>0.206794</td>\n",
       "      <td>1.000000</td>\n",
       "    </tr>\n",
       "  </tbody>\n",
       "</table>\n",
       "</div>"
      ],
      "text/plain": [
       "             Math   Science   Reading   History\n",
       "Math     1.000000  0.269494 -0.268562 -0.718358\n",
       "Science  0.269494  1.000000 -0.527606 -0.358688\n",
       "Reading -0.268562 -0.527606  1.000000  0.206794\n",
       "History -0.718358 -0.358688  0.206794  1.000000"
      ]
     },
     "execution_count": 57,
     "metadata": {},
     "output_type": "execute_result"
    }
   ],
   "source": [
    "student_df.corr()"
   ]
  },
  {
   "cell_type": "markdown",
   "metadata": {},
   "source": [
    "\n",
    "### Question 3:\n",
    "\n",
    "Consider the following numbers representing the grades from the most recent exam in a math class:\n",
    "\n",
    "[24, 5, 15, 60, 54, 82, 99, 80, 70, 98, 93, 60, 33, 22, 65, 61, 51, 58, 83, 86, 42, 67, 60]\n",
    "\n",
    "Write a Python function named desc_stats() that takes a list of numbers and prints the following statistical calculations:\n",
    "- Mean\n",
    "- Median\n",
    "- Mode\n",
    "- Minimum\n",
    "- Maximum\n",
    "- Range\n",
    "- Variance\n",
    "- Standard deviation\n"
   ]
  },
  {
   "cell_type": "markdown",
   "metadata": {},
   "source": [
    "\n",
    "### Define the function...\n"
   ]
  },
  {
   "cell_type": "code",
   "execution_count": 58,
   "metadata": {},
   "outputs": [],
   "source": [
    "def desc_stats(my_list):\n",
    "    my_list.sort()\n",
    "    print(f\"Mean: {statistics.mean(my_list)}\")\n",
    "    print(f\"Median: {statistics.median(my_list)}\")\n",
    "    print(f\"Mode: {statistics.mode(my_list)}\")\n",
    "    print(f\"Minimum: {min(my_list)}\")\n",
    "    print(f\"Maximum: {max(my_list)}\")\n",
    "    print(f\"Range: {my_list[-1] - my_list[0]}\")\n",
    "    print(f\"Variance: {statistics.pvariance(my_list)}\")\n",
    "    print(f\"Standard deviation: {statistics.pstdev(my_list)}\")\n",
    "    print(my_list)"
   ]
  },
  {
   "cell_type": "markdown",
   "metadata": {},
   "source": [
    "\n",
    "### Run the function...\n"
   ]
  },
  {
   "cell_type": "code",
   "execution_count": 59,
   "metadata": {},
   "outputs": [
    {
     "name": "stdout",
     "output_type": "stream",
     "text": [
      "Mean: 59.47826086956522\n",
      "Median: 60\n",
      "Mode: 60\n",
      "Minimum: 5\n",
      "Maximum: 99\n",
      "Range: 94\n",
      "Variance: 664.1625708884688\n",
      "Standard deviation: 25.771351747404886\n",
      "[5, 15, 22, 24, 33, 42, 51, 54, 58, 60, 60, 60, 61, 65, 67, 70, 80, 82, 83, 86, 93, 98, 99]\n"
     ]
    }
   ],
   "source": [
    "desc_stats([24, 5, 15, 60, 54, 82, 99, 80, 70, 98, 93, 60, 33, 22, 65, 61, 51, 58, 83, 86, 42, 67, 60])"
   ]
  },
  {
   "cell_type": "markdown",
   "metadata": {},
   "source": [
    "\n",
    "### Extended Challenge:\n",
    "\n",
    "Interpret the results. If you were the instructor of the class, would you curve the grade? Assume:\n",
    "\n",
    "0-100 is the possible range of scores\n",
    "\n",
    "The grade scale is:\n",
    "- F: 0-60\n",
    "- D: 60-70\n",
    "- C: 70-80\n",
    "- B: 80-90\n",
    "- A: 90-100\n",
    "\n",
    "Think about the grade scale and use the information from your desc_stats() to justify your results. \n"
   ]
  },
  {
   "cell_type": "markdown",
   "metadata": {},
   "source": [
    "\n",
    "### Interpretation:\n",
    "\n",
    "Well, with that grading scsale, over half the students would fail.\n",
    "\n",
    "The average score of 60 seems to be well represented.  I would divide the distribution by the middle two standard deviations.  Anything above the first standard devition (60+26 = 86) would count as an 'A'.  Anything below the lower standard deviation (60 - 26 - 34) would be counted as an 'F'.  I would then divide the middle two standard deviations into thirds to represent 'B', 'C' and 'D'.  The difference would be 52, which divided by 3 would be 17.  This approach would give me the following grading scale:\n",
    "  \n",
    " 0-34: F\n",
    "35-51: D\n",
    "52-68: C\n",
    "69-85: B\n",
    " 86+:  A\n",
    " \n",
    "Since 52 doesn't divide evenly into 3, I left the extra point in the B range.\n",
    "\n",
    "NOTE:  Just being picky, but the original grading scale has overlap.  If a student scores 60, that could eiterh be an F or a D.  Each grade has a one point overlap with the previous grade."
   ]
  },
  {
   "cell_type": "code",
   "execution_count": null,
   "metadata": {},
   "outputs": [],
   "source": []
  }
 ],
 "metadata": {
  "kernelspec": {
   "display_name": "Python 3",
   "language": "python",
   "name": "python3"
  },
  "language_info": {
   "codemirror_mode": {
    "name": "ipython",
    "version": 3
   },
   "file_extension": ".py",
   "mimetype": "text/x-python",
   "name": "python",
   "nbconvert_exporter": "python",
   "pygments_lexer": "ipython3",
   "version": "3.7.6"
  }
 },
 "nbformat": 4,
 "nbformat_minor": 4
}
