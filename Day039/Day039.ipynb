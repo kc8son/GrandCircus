{
 "cells": [
  {
   "cell_type": "markdown",
   "id": "49cc9671-f2f6-406f-838a-a1b19766bfbe",
   "metadata": {},
   "source": [
    "# Grand Circus Capstrone Project 02\n",
    "IMDB MOVIES/SHOWS REPORT\n",
    "Three datasets:\n",
    "- title.basics.tsv.gz\n",
    "- title.ratings.tsv.gz\n"
   ]
  },
  {
   "cell_type": "code",
   "execution_count": 17,
   "id": "f93d7362-52e1-4656-9b2f-38bd5fe231ff",
   "metadata": {},
   "outputs": [],
   "source": [
    "import pandas as pd\n",
    "import numpy as np\n",
    "import seaborn as sns"
   ]
  },
  {
   "cell_type": "markdown",
   "id": "374bd848-62b4-4530-a65f-538e5cbb0dfd",
   "metadata": {},
   "source": [
    "### Load name.basics.tsv"
   ]
  },
  {
   "cell_type": "code",
   "execution_count": 23,
   "id": "36799d11-f43a-44eb-9c11-a25c2f111f40",
   "metadata": {},
   "outputs": [
    {
     "name": "stdout",
     "output_type": "stream",
     "text": [
      "       nconst          primaryName birthYear deathYear  \\\n",
      "0   nm0000001         Fred Astaire      1899      1987   \n",
      "1   nm0000002        Lauren Bacall      1924      2014   \n",
      "2   nm0000003      Brigitte Bardot      1934        \\N   \n",
      "3   nm0000004         John Belushi      1949      1982   \n",
      "4   nm0000005       Ingmar Bergman      1918      2007   \n",
      "5   nm0000006       Ingrid Bergman      1915      1982   \n",
      "6   nm0000007      Humphrey Bogart      1899      1957   \n",
      "7   nm0000008        Marlon Brando      1924      2004   \n",
      "8   nm0000009       Richard Burton      1925      1984   \n",
      "9   nm0000010         James Cagney      1899      1986   \n",
      "10  nm0000011          Gary Cooper      1901      1961   \n",
      "11  nm0000012          Bette Davis      1908      1989   \n",
      "12  nm0000013            Doris Day      1922      2019   \n",
      "13  nm0000014  Olivia de Havilland      1916      2020   \n",
      "14  nm0000015           James Dean      1931      1955   \n",
      "15  nm0000016      Georges Delerue      1925      1992   \n",
      "16  nm0000017     Marlene Dietrich      1901      1992   \n",
      "17  nm0000018         Kirk Douglas      1916      2020   \n",
      "18  nm0000019     Federico Fellini      1920      1993   \n",
      "19  nm0000020          Henry Fonda      1905      1982   \n",
      "\n",
      "                        primaryProfession  \\\n",
      "0          soundtrack,actor,miscellaneous   \n",
      "1                      actress,soundtrack   \n",
      "2     actress,soundtrack,music_department   \n",
      "3                 actor,soundtrack,writer   \n",
      "4                   writer,director,actor   \n",
      "5             actress,soundtrack,producer   \n",
      "6               actor,soundtrack,producer   \n",
      "7               actor,soundtrack,director   \n",
      "8               actor,soundtrack,producer   \n",
      "9               actor,soundtrack,director   \n",
      "10                actor,soundtrack,stunts   \n",
      "11  actress,soundtrack,make_up_department   \n",
      "12            soundtrack,actress,producer   \n",
      "13                     actress,soundtrack   \n",
      "14                    actor,miscellaneous   \n",
      "15   composer,soundtrack,music_department   \n",
      "16    soundtrack,actress,music_department   \n",
      "17              actor,producer,soundtrack   \n",
      "18                  writer,director,actor   \n",
      "19              actor,producer,soundtrack   \n",
      "\n",
      "                             knownForTitles  \n",
      "0   tt0053137,tt0072308,tt0050419,tt0045537  \n",
      "1   tt0075213,tt0038355,tt0037382,tt0117057  \n",
      "2   tt0054452,tt0057345,tt0049189,tt0056404  \n",
      "3   tt0080455,tt0072562,tt0077975,tt0078723  \n",
      "4   tt0050986,tt0050976,tt0060827,tt0069467  \n",
      "5   tt0038109,tt0034583,tt0036855,tt0038787  \n",
      "6   tt0034583,tt0043265,tt0042593,tt0037382  \n",
      "7   tt0068646,tt0078788,tt0047296,tt0070849  \n",
      "8   tt0059749,tt0061184,tt0087803,tt0057877  \n",
      "9   tt0035575,tt0031867,tt0042041,tt0029870  \n",
      "10  tt0044706,tt0035896,tt0034167,tt0027996  \n",
      "11  tt0031210,tt0035140,tt0042192,tt0056687  \n",
      "12  tt0053172,tt0048317,tt0045591,tt0049470  \n",
      "13  tt0041452,tt0040806,tt0029843,tt0031381  \n",
      "14  tt0048028,tt0120956,tt0049261,tt0048545  \n",
      "15  tt0091763,tt8847712,tt0069946,tt0096320  \n",
      "16  tt0055031,tt0052311,tt0051201,tt0021156  \n",
      "17  tt0049456,tt0054331,tt0050825,tt0043338  \n",
      "18  tt0071129,tt0056801,tt0050783,tt0047528  \n",
      "19  tt0082846,tt0032551,tt0051207,tt0050083  \n"
     ]
    },
    {
     "data": {
      "text/plain": [
       "(12548289, 6)"
      ]
     },
     "execution_count": 23,
     "metadata": {},
     "output_type": "execute_result"
    }
   ],
   "source": [
    "file1 = r\"C:\\Users\\j\\Downloads\\Day039Data\\name.basics.tsv\"\n",
    "df1 =  pd.read_csv(file1, sep='\\t')\n",
    "print(df1.head(20))\n",
    "df1.shape"
   ]
  },
  {
   "cell_type": "markdown",
   "id": "6e53f487-426a-4d0b-8554-bdc7194e35b8",
   "metadata": {},
   "source": [
    "### Load title.akas.tsv"
   ]
  },
  {
   "cell_type": "code",
   "execution_count": 30,
   "id": "289c4472-35d7-470a-a4bb-8be60c2822c3",
   "metadata": {},
   "outputs": [
    {
     "name": "stderr",
     "output_type": "stream",
     "text": [
      "C:\\Users\\j\\AppData\\Local\\Temp\\ipykernel_12892\\2162114105.py:2: DtypeWarning: Columns (7) have mixed types. Specify dtype option on import or set low_memory=False.\n",
      "  df2 =  pd.read_csv(file2, sep='\\t')\n"
     ]
    },
    {
     "name": "stdout",
     "output_type": "stream",
     "text": [
      "      titleId  ordering                      title region language  \\\n",
      "0   tt0000001         1                 Карменсіта     UA       \\N   \n",
      "1   tt0000001         2                 Carmencita     DE       \\N   \n",
      "2   tt0000001         3  Carmencita - spanyol tánc     HU       \\N   \n",
      "3   tt0000001         4                 Καρμενσίτα     GR       \\N   \n",
      "4   tt0000001         5                 Карменсита     RU       \\N   \n",
      "5   tt0000001         6                 Carmencita     US       \\N   \n",
      "6   tt0000001         7                 Carmencita     \\N       \\N   \n",
      "7   tt0000001         8                    カルメンチータ     JP       ja   \n",
      "8   tt0000002         1     Le clown et ses chiens     \\N       \\N   \n",
      "9   tt0000002         2     Le clown et ses chiens     FR       \\N   \n",
      "10  tt0000002         3          A bohóc és kutyái     HU       \\N   \n",
      "11  tt0000002         4  Der Clown und seine Hunde     DE       \\N   \n",
      "12  tt0000002         5      Clovnul si cainii sai     RO       \\N   \n",
      "13  tt0000002         6         Клоун и его собаки     RU       \\N   \n",
      "14  tt0000002         7     The Clown and His Dogs     US       \\N   \n",
      "15  tt0000002         8                      道化師と犬     JP       ja   \n",
      "16  tt0000003         1           Sarmanul Pierrot     RO       \\N   \n",
      "17  tt0000003         2            Szegény Pierrot     HU       \\N   \n",
      "18  tt0000003         3                     哀れなピエロ     JP       ja   \n",
      "19  tt0000003         4               Бідний П'єро     UA       \\N   \n",
      "\n",
      "          types             attributes isOriginalTitle  \n",
      "0   imdbDisplay                     \\N               0  \n",
      "1            \\N          literal title               0  \n",
      "2   imdbDisplay                     \\N               0  \n",
      "3   imdbDisplay                     \\N               0  \n",
      "4   imdbDisplay                     \\N               0  \n",
      "5   imdbDisplay                     \\N               0  \n",
      "6      original                     \\N               1  \n",
      "7   imdbDisplay                     \\N               0  \n",
      "8      original                     \\N               1  \n",
      "9   imdbDisplay                     \\N               0  \n",
      "10  imdbDisplay                     \\N               0  \n",
      "11           \\N          literal title               0  \n",
      "12  imdbDisplay                     \\N               0  \n",
      "13  imdbDisplay                     \\N               0  \n",
      "14           \\N  literal English title               0  \n",
      "15  imdbDisplay                     \\N               0  \n",
      "16  imdbDisplay                     \\N               0  \n",
      "17  imdbDisplay                     \\N               0  \n",
      "18  imdbDisplay                     \\N               0  \n",
      "19  imdbDisplay                     \\N               0  \n"
     ]
    },
    {
     "data": {
      "text/plain": [
       "(35994986, 8)"
      ]
     },
     "execution_count": 30,
     "metadata": {},
     "output_type": "execute_result"
    }
   ],
   "source": [
    "file2 = r\"C:\\Users\\j\\Downloads\\Day039Data\\title.akas.tsv\"\n",
    "df2 =  pd.read_csv(file2, sep='\\t')\n",
    "print(df2.head(20))\n",
    "df2.shape"
   ]
  },
  {
   "cell_type": "markdown",
   "id": "56a41f64-4bc2-4b2a-8ecc-d3479fdc4d0f",
   "metadata": {},
   "source": [
    "### Load title.basics.tsv\""
   ]
  },
  {
   "cell_type": "code",
   "execution_count": null,
   "id": "2099f559-c792-43ec-b057-e4cb8f536a4b",
   "metadata": {},
   "outputs": [],
   "source": [
    "file3 = r\"C:\\Users\\j\\Downloads\\Day039Data\\title.basics.tsv\"\n",
    "df3 =  pd.read_csv(file3, sep='\\t')\n",
    "df3.head(20)\n",
    "df3.shape"
   ]
  },
  {
   "cell_type": "code",
   "execution_count": null,
   "id": "438766d7-5dc8-4947-8282-df75080ef2c4",
   "metadata": {},
   "outputs": [],
   "source": [
    "### Load title.crew"
   ]
  },
  {
   "cell_type": "code",
   "execution_count": null,
   "id": "1770a611-8cbd-4bc7-80a1-47258d68ef0c",
   "metadata": {},
   "outputs": [],
   "source": [
    "file4 = r\"C:\\Users\\j\\Downloads\\Day039Data\\title.crew.tsv\"\n",
    "df4 =  pd.read_csv(file1, sep='\\t')\n",
    "df4.head(20)\n",
    "df4.shape"
   ]
  },
  {
   "cell_type": "code",
   "execution_count": null,
   "id": "37fd260a-59fe-4e26-babe-415d383cee0f",
   "metadata": {},
   "outputs": [],
   "source": []
  },
  {
   "cell_type": "code",
   "execution_count": null,
   "id": "d5d593b3-fa1c-4085-bcf3-05ca5d318366",
   "metadata": {},
   "outputs": [],
   "source": []
  },
  {
   "cell_type": "code",
   "execution_count": null,
   "id": "cc2edb84-026b-4a3e-8d38-23765425d3fd",
   "metadata": {},
   "outputs": [],
   "source": []
  },
  {
   "cell_type": "code",
   "execution_count": null,
   "id": "deb94245-e535-4392-bff4-ddc24a0b00ff",
   "metadata": {},
   "outputs": [],
   "source": []
  },
  {
   "cell_type": "code",
   "execution_count": null,
   "id": "2529087f-7632-4247-80da-7c0bb3df3418",
   "metadata": {},
   "outputs": [],
   "source": []
  },
  {
   "cell_type": "code",
   "execution_count": null,
   "id": "4dec8ee9-bee7-4819-ac13-0cf02005261d",
   "metadata": {},
   "outputs": [],
   "source": []
  },
  {
   "cell_type": "code",
   "execution_count": 31,
   "id": "f0f2359c-d77c-4132-8c3d-b6d8811dc845",
   "metadata": {},
   "outputs": [],
   "source": [
    "file1 = r\"C:\\Users\\j\\Downloads\\Day039Data\\name.basics.tsv\"\n",
    "file2 = r\"C:\\Users\\j\\Downloads\\Day039Data\\title.akas.tsv\"\n",
    "file3 = r\"C:\\Users\\j\\Downloads\\Day039Data\\title.basics.tsv\"\n",
    "file4 = r\"C:\\Users\\j\\Downloads\\Day039Data\\title.crew.tsv\"\n",
    "\n",
    "file5 = r\"C:\\Users\\j\\Downloads\\Day039Data\\title.episode.tsv\"\n",
    "file6 = r\"C:\\Users\\j\\Downloads\\Day039Data\\title.principals.tsv\"\n",
    "file7 = r\"C:\\Users\\j\\Downloads\\Day039Data\\title.ratings.tsv\"\n"
   ]
  },
  {
   "cell_type": "code",
   "execution_count": null,
   "id": "373c9198-9b31-4643-9c4f-add8e09ff5dd",
   "metadata": {},
   "outputs": [],
   "source": []
  },
  {
   "cell_type": "code",
   "execution_count": null,
   "id": "d1ea67ac-6a28-464c-bfb9-b7ad3921a9fa",
   "metadata": {},
   "outputs": [],
   "source": []
  },
  {
   "cell_type": "markdown",
   "id": "4322d8a9-7900-4a26-9777-0d59648a93b9",
   "metadata": {},
   "source": [
    "# Analysis ideas...\n",
    "1. Compare Genre vs Rating - identify the most popular genre\n",
    "1. Compare actor with the rating for their movies\n",
    "- Average the rating for all of their movies, also include a count of their movies.\n",
    "1. Average rating by decade of the movie.\n",
    "1. Runtime compared to date - are newer movies getting longer\n",
    "1. Compare remankes.\n",
    "- How do the ratings compare.\n",
    "- How far apart is the remake from the original\n",
    "- How does this timeframe affect the rating?\n",
    "\n",
    "# Which tables do we need?"
   ]
  }
 ],
 "metadata": {
  "kernelspec": {
   "display_name": "Python 3 (ipykernel)",
   "language": "python",
   "name": "python3"
  },
  "language_info": {
   "codemirror_mode": {
    "name": "ipython",
    "version": 3
   },
   "file_extension": ".py",
   "mimetype": "text/x-python",
   "name": "python",
   "nbconvert_exporter": "python",
   "pygments_lexer": "ipython3",
   "version": "3.10.9"
  }
 },
 "nbformat": 4,
 "nbformat_minor": 5
}
