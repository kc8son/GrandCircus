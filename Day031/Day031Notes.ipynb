{
 "cells": [
  {
   "cell_type": "markdown",
   "id": "85d4315f",
   "metadata": {},
   "source": [
    "# Notes from May 8 class"
   ]
  },
  {
   "cell_type": "markdown",
   "id": "920daaf6",
   "metadata": {},
   "source": [
    "## 1 - PostgreSQL using psycopg2"
   ]
  },
  {
   "cell_type": "code",
   "execution_count": 1,
   "id": "859d4462",
   "metadata": {},
   "outputs": [],
   "source": [
    "import pandas as pd\n",
    "import numpy as np\n",
    "import psycopg2"
   ]
  },
  {
   "cell_type": "code",
   "execution_count": 2,
   "id": "84d7bfca",
   "metadata": {},
   "outputs": [],
   "source": [
    "conn = psycopg2.connect(\"dbname=northwind user=myuser password=mypassword\")"
   ]
  },
  {
   "cell_type": "code",
   "execution_count": 3,
   "id": "33f7f73f-c49d-4a63-959b-70408af44676",
   "metadata": {},
   "outputs": [
    {
     "name": "stdout",
     "output_type": "stream",
     "text": [
      "Conected\n"
     ]
    }
   ],
   "source": [
    "DB_NAME = 'mydb'\n",
    "DB_USER = 'myuser'\n",
    "DB_PASS = 'mypassword'\n",
    "DB_HOST = 'localhost'\n",
    "DB_PORT = '5432'\n",
    "\n",
    "try:\n",
    "    conn = psycopg2.connect(\"dbname=northwind user=myuser password=mypassword\")\n",
    "    # conn = psycopg2.connect( database = DB_NAME,\n",
    "    #                  user = DB_USER,\n",
    "    #                  host = DB_HOST,\n",
    "    #                  password = DB_PASSWORD,\n",
    "    #                  port = DB_PORT)\n",
    "    print('Conected')\n",
    "except:\n",
    "    print('cpnnection error')\n",
    "\n"
   ]
  },
  {
   "cell_type": "code",
   "execution_count": 4,
   "id": "77a44a39-6b31-44d7-b8f2-2ab58b9d90b7",
   "metadata": {},
   "outputs": [
    {
     "name": "stdout",
     "output_type": "stream",
     "text": [
      "\n",
      "    SELECT table_name\n",
      "    FROM information_schema.tables\n",
      "    WHERE table_schema = 'public'\n",
      "    ORDER BY table_name\n"
     ]
    }
   ],
   "source": [
    "sql_cmd = '''\n",
    "    SELECT table_name\n",
    "    FROM information_schema.tables\n",
    "    WHERE table_schema = 'public'\n",
    "    ORDER BY table_name'''\n",
    "print(sql_cmd)"
   ]
  },
  {
   "cell_type": "code",
   "execution_count": 5,
   "id": "3cb220f4-75d2-4c0d-bae9-b62ea284523d",
   "metadata": {},
   "outputs": [
    {
     "name": "stderr",
     "output_type": "stream",
     "text": [
      "C:\\Users\\j\\AppData\\Local\\Temp\\ipykernel_1628\\3308259458.py:1: UserWarning: pandas only supports SQLAlchemy connectable (engine/connection) or database string URI or sqlite3 DBAPI2 connection. Other DBAPI2 objects are not tested. Please consider using SQLAlchemy.\n",
      "  data = pd.read_sql_query(sql_cmd, conn)\n"
     ]
    }
   ],
   "source": [
    "\n",
    "data = pd.read_sql_query(sql_cmd, conn)"
   ]
  },
  {
   "cell_type": "code",
   "execution_count": null,
   "id": "fb0d1ac4-36ca-454a-a3c6-734a7fe3e367",
   "metadata": {},
   "outputs": [],
   "source": []
  },
  {
   "cell_type": "code",
   "execution_count": 6,
   "id": "f318538f-aa7c-4d68-a4b6-7dd038e594a6",
   "metadata": {},
   "outputs": [
    {
     "name": "stdout",
     "output_type": "stream",
     "text": [
      "                table_name\n",
      "0               categories\n",
      "1   customer_customer_demo\n",
      "2    customer_demographics\n",
      "3                customers\n",
      "4                 employee\n",
      "5     employee_territories\n",
      "6                employees\n",
      "7            order_details\n",
      "8                   orders\n",
      "9                 products\n",
      "10                  region\n",
      "11                shippers\n",
      "12               suppliers\n",
      "13             territories\n",
      "14               us_states\n"
     ]
    }
   ],
   "source": [
    "print(data)"
   ]
  },
  {
   "cell_type": "markdown",
   "id": "a7eb18be-bf50-4d93-9680-714df0ac7138",
   "metadata": {},
   "source": [
    "### 1. Create a new table in python"
   ]
  },
  {
   "cell_type": "code",
   "execution_count": 7,
   "id": "871c2184-572d-4b77-bdad-5098b6d8c72f",
   "metadata": {},
   "outputs": [
    {
     "ename": "DuplicateTable",
     "evalue": "relation \"employee\" already exists\n",
     "output_type": "error",
     "traceback": [
      "\u001b[1;31m---------------------------------------------------------------------------\u001b[0m",
      "\u001b[1;31mDuplicateTable\u001b[0m                            Traceback (most recent call last)",
      "Cell \u001b[1;32mIn[7], line 4\u001b[0m\n\u001b[0;32m      1\u001b[0m cur \u001b[38;5;241m=\u001b[39m conn\u001b[38;5;241m.\u001b[39mcursor()\n\u001b[0;32m      3\u001b[0m \u001b[38;5;66;03m#  Exrcute a query tp cretate a table...\u001b[39;00m\n\u001b[1;32m----> 4\u001b[0m \u001b[43mcur\u001b[49m\u001b[38;5;241;43m.\u001b[39;49m\u001b[43mexecute\u001b[49m\u001b[43m(\u001b[49m\u001b[38;5;124;43m\"\"\"\u001b[39;49m\n\u001b[0;32m      5\u001b[0m \u001b[38;5;124;43mCREATE TABLE employee\u001b[39;49m\n\u001b[0;32m      6\u001b[0m \u001b[38;5;124;43m(\u001b[39;49m\n\u001b[0;32m      7\u001b[0m \u001b[38;5;124;43m    ID INT PRIMARY KEY NOT NULL,\u001b[39;49m\n\u001b[0;32m      8\u001b[0m \u001b[38;5;124;43m    NAME TEXT NOT NULL,\u001b[39;49m\n\u001b[0;32m      9\u001b[0m \u001b[38;5;124;43m    EMAIL TEXT NOT NULL\u001b[39;49m\n\u001b[0;32m     10\u001b[0m \u001b[38;5;124;43m)\u001b[39;49m\n\u001b[0;32m     11\u001b[0m \u001b[38;5;124;43m\"\"\"\u001b[39;49m\u001b[43m)\u001b[49m\n\u001b[0;32m     12\u001b[0m conn\u001b[38;5;241m.\u001b[39mcommit()\n\u001b[0;32m     13\u001b[0m \u001b[38;5;28mprint\u001b[39m(\u001b[38;5;124m\"\u001b[39m\u001b[38;5;124mtable created successfully\u001b[39m\u001b[38;5;124m\"\u001b[39m)\n",
      "\u001b[1;31mDuplicateTable\u001b[0m: relation \"employee\" already exists\n"
     ]
    }
   ],
   "source": [
    "cur = conn.cursor()\n",
    "\n",
    "#  Exrcute a query tp cretate a table...\n",
    "cur.execute(\"\"\"\n",
    "CREATE TABLE employee\n",
    "(\n",
    "    ID INT PRIMARY KEY NOT NULL,\n",
    "    NAME TEXT NOT NULL,\n",
    "    EMAIL TEXT NOT NULL\n",
    ")\n",
    "\"\"\")\n",
    "conn.commit()\n",
    "print(\"table created successfully\")"
   ]
  },
  {
   "cell_type": "code",
   "execution_count": 8,
   "id": "c9de1076-9fe2-422c-829e-35f16a320446",
   "metadata": {},
   "outputs": [
    {
     "name": "stdout",
     "output_type": "stream",
     "text": [
      "                table_name\n",
      "0               categories\n",
      "1   customer_customer_demo\n",
      "2    customer_demographics\n",
      "3                customers\n",
      "4                 employee\n",
      "5     employee_territories\n",
      "6                employees\n",
      "7            order_details\n",
      "8                   orders\n",
      "9                 products\n",
      "10                  region\n",
      "11                shippers\n",
      "12               suppliers\n",
      "13             territories\n",
      "14               us_states\n"
     ]
    },
    {
     "name": "stderr",
     "output_type": "stream",
     "text": [
      "C:\\Users\\j\\AppData\\Local\\Temp\\ipykernel_1628\\346126244.py:2: UserWarning: pandas only supports SQLAlchemy connectable (engine/connection) or database string URI or sqlite3 DBAPI2 connection. Other DBAPI2 objects are not tested. Please consider using SQLAlchemy.\n",
      "  data2 = pd.read_sql_query(sql_cmd, conn)\n"
     ]
    }
   ],
   "source": [
    "\n",
    "data2 = pd.read_sql_query(sql_cmd, conn)\n",
    "print(data2)"
   ]
  },
  {
   "cell_type": "code",
   "execution_count": 9,
   "id": "8a8b4352-3606-441c-ba89-f46224e313b7",
   "metadata": {},
   "outputs": [
    {
     "name": "stdout",
     "output_type": "stream",
     "text": [
      "Empty DataFrame\n",
      "Columns: [id, name, email]\n",
      "Index: []\n"
     ]
    },
    {
     "name": "stderr",
     "output_type": "stream",
     "text": [
      "C:\\Users\\j\\AppData\\Local\\Temp\\ipykernel_1628\\1315677750.py:2: UserWarning: pandas only supports SQLAlchemy connectable (engine/connection) or database string URI or sqlite3 DBAPI2 connection. Other DBAPI2 objects are not tested. Please consider using SQLAlchemy.\n",
      "  data3 = pd.read_sql_query(sql_cmd3, conn)\n"
     ]
    }
   ],
   "source": [
    "sql_cmd3 = \"SELECT * FROM employee\"\n",
    "data3 = pd.read_sql_query(sql_cmd3, conn)\n",
    "print(data3)"
   ]
  },
  {
   "cell_type": "code",
   "execution_count": 13,
   "id": "9a100155-b5db-48b5-b0c3-36eddabf7eaf",
   "metadata": {},
   "outputs": [],
   "source": [
    "cur.execute(\"\"\"\n",
    "    INSERT INTO employee (ID, NAME, EMAIL) VALUES\n",
    "    (1, 'Joe Cool', 'jc@nowhere.com'),\n",
    "    (2, 'Jerry Springer', 'js@nowhere.com')\n",
    "\"\"\")\n",
    "conn.commit()"
   ]
  },
  {
   "cell_type": "code",
   "execution_count": 15,
   "id": "66fac046-7f65-4cb3-80f6-7fc966068daa",
   "metadata": {},
   "outputs": [
    {
     "name": "stdout",
     "output_type": "stream",
     "text": [
      "   id            name           email\n",
      "0   1        Joe Cool  jc@nowhere.com\n",
      "1   2  Jerry Springer  js@nowhere.com\n"
     ]
    },
    {
     "name": "stderr",
     "output_type": "stream",
     "text": [
      "C:\\Users\\j\\AppData\\Local\\Temp\\ipykernel_1628\\3361690415.py:3: UserWarning: pandas only supports SQLAlchemy connectable (engine/connection) or database string URI or sqlite3 DBAPI2 connection. Other DBAPI2 objects are not tested. Please consider using SQLAlchemy.\n",
      "  data4 = pd.read_sql_query(sql_cmd4, conn)\n"
     ]
    }
   ],
   "source": [
    "# conn.rollback()\n",
    "sql_cmd4 = \"SELECT * FROM employee\"\n",
    "data4 = pd.read_sql_query(sql_cmd4, conn)\n",
    "print(data4)"
   ]
  },
  {
   "cell_type": "code",
   "execution_count": 16,
   "id": "95a2fefe-5780-442c-a939-b0b790d9af8b",
   "metadata": {},
   "outputs": [
    {
     "name": "stdout",
     "output_type": "stream",
     "text": [
      "   id            name             email\n",
      "0   2  Jerry Springer    js@nowhere.com\n",
      "1   1        Joe Cool  JoeC@nowhere.com\n"
     ]
    },
    {
     "name": "stderr",
     "output_type": "stream",
     "text": [
      "C:\\Users\\j\\AppData\\Local\\Temp\\ipykernel_1628\\1545311992.py:7: UserWarning: pandas only supports SQLAlchemy connectable (engine/connection) or database string URI or sqlite3 DBAPI2 connection. Other DBAPI2 objects are not tested. Please consider using SQLAlchemy.\n",
      "  data4 = pd.read_sql_query(sql_cmd4, conn)\n"
     ]
    }
   ],
   "source": [
    "cur.execute(\"\"\"\n",
    "    UPDATE employee \n",
    "    SET EMAIL = 'JoeC@nowhere.com'\n",
    "    WHERE ID = 1\"\"\")\n",
    "conn.commit()\n",
    "sql_cmd4 = \"SELECT * FROM employee\"\n",
    "data4 = pd.read_sql_query(sql_cmd4, conn)\n",
    "print(data4)"
   ]
  },
  {
   "cell_type": "code",
   "execution_count": 19,
   "id": "a8542e90-f9bd-40bc-a248-e27148e3f7e8",
   "metadata": {},
   "outputs": [
    {
     "name": "stdout",
     "output_type": "stream",
     "text": [
      "   id            name           email\n",
      "0   2  Jerry Springer  js@nowhere.com\n"
     ]
    },
    {
     "name": "stderr",
     "output_type": "stream",
     "text": [
      "C:\\Users\\j\\AppData\\Local\\Temp\\ipykernel_1628\\303857042.py:8: UserWarning: pandas only supports SQLAlchemy connectable (engine/connection) or database string URI or sqlite3 DBAPI2 connection. Other DBAPI2 objects are not tested. Please consider using SQLAlchemy.\n",
      "  print(pd.read_sql_query(sql_cmd5, conn))\n"
     ]
    }
   ],
   "source": [
    "cur.execute(\"\"\"\n",
    "    DELETE FROM employee \n",
    "    WHERE ID = 1\"\"\")\n",
    "conn.commit()\n",
    "sql_cmd5 = \"SELECT * FROM employee\"\n",
    "data5 = pd.read_sql_query(sql_cmd5, conn)\n",
    "print(data5)\n",
    "print(pd.read_sql_query(sql_cmd5, conn))"
   ]
  },
  {
   "cell_type": "code",
   "execution_count": 20,
   "id": "9e1b3199-0712-4b3b-b426-61b7f5b77442",
   "metadata": {},
   "outputs": [
    {
     "name": "stderr",
     "output_type": "stream",
     "text": [
      "C:\\Users\\j\\AppData\\Local\\Temp\\ipykernel_1628\\3498643981.py:7: UserWarning: pandas only supports SQLAlchemy connectable (engine/connection) or database string URI or sqlite3 DBAPI2 connection. Other DBAPI2 objects are not tested. Please consider using SQLAlchemy.\n",
      "  print(pd.read_sql_query(sql_cmd5, conn))\n"
     ]
    },
    {
     "ename": "DatabaseError",
     "evalue": "Execution failed on sql 'SELECT * FROM employee': relation \"employee\" does not exist\nLINE 1: SELECT * FROM employee\n                      ^\n",
     "output_type": "error",
     "traceback": [
      "\u001b[1;31m---------------------------------------------------------------------------\u001b[0m",
      "\u001b[1;31mUndefinedTable\u001b[0m                            Traceback (most recent call last)",
      "File \u001b[1;32m~\\anaconda3\\lib\\site-packages\\pandas\\io\\sql.py:2018\u001b[0m, in \u001b[0;36mSQLiteDatabase.execute\u001b[1;34m(self, *args, **kwargs)\u001b[0m\n\u001b[0;32m   2017\u001b[0m \u001b[38;5;28;01mtry\u001b[39;00m:\n\u001b[1;32m-> 2018\u001b[0m     cur\u001b[38;5;241m.\u001b[39mexecute(\u001b[38;5;241m*\u001b[39margs, \u001b[38;5;241m*\u001b[39m\u001b[38;5;241m*\u001b[39mkwargs)\n\u001b[0;32m   2019\u001b[0m     \u001b[38;5;28;01mreturn\u001b[39;00m cur\n",
      "\u001b[1;31mUndefinedTable\u001b[0m: relation \"employee\" does not exist\nLINE 1: SELECT * FROM employee\n                      ^\n",
      "\nThe above exception was the direct cause of the following exception:\n",
      "\u001b[1;31mDatabaseError\u001b[0m                             Traceback (most recent call last)",
      "Cell \u001b[1;32mIn[20], line 7\u001b[0m\n\u001b[0;32m      3\u001b[0m conn\u001b[38;5;241m.\u001b[39mcommit()\n\u001b[0;32m      4\u001b[0m \u001b[38;5;66;03m# sql_cmd5 = \"SELECT * FROM employee\"\u001b[39;00m\n\u001b[0;32m      5\u001b[0m \u001b[38;5;66;03m# data5 = pd.read_sql_query(sql_cmd5, conn)\u001b[39;00m\n\u001b[0;32m      6\u001b[0m \u001b[38;5;66;03m# print(data5)\u001b[39;00m\n\u001b[1;32m----> 7\u001b[0m \u001b[38;5;28mprint\u001b[39m(\u001b[43mpd\u001b[49m\u001b[38;5;241;43m.\u001b[39;49m\u001b[43mread_sql_query\u001b[49m\u001b[43m(\u001b[49m\u001b[43msql_cmd5\u001b[49m\u001b[43m,\u001b[49m\u001b[43m \u001b[49m\u001b[43mconn\u001b[49m\u001b[43m)\u001b[49m)\n",
      "File \u001b[1;32m~\\anaconda3\\lib\\site-packages\\pandas\\io\\sql.py:397\u001b[0m, in \u001b[0;36mread_sql_query\u001b[1;34m(sql, con, index_col, coerce_float, params, parse_dates, chunksize, dtype)\u001b[0m\n\u001b[0;32m    339\u001b[0m \u001b[38;5;124;03m\"\"\"\u001b[39;00m\n\u001b[0;32m    340\u001b[0m \u001b[38;5;124;03mRead SQL query into a DataFrame.\u001b[39;00m\n\u001b[0;32m    341\u001b[0m \n\u001b[1;32m   (...)\u001b[0m\n\u001b[0;32m    394\u001b[0m \u001b[38;5;124;03mparameter will be converted to UTC.\u001b[39;00m\n\u001b[0;32m    395\u001b[0m \u001b[38;5;124;03m\"\"\"\u001b[39;00m\n\u001b[0;32m    396\u001b[0m pandas_sql \u001b[38;5;241m=\u001b[39m pandasSQL_builder(con)\n\u001b[1;32m--> 397\u001b[0m \u001b[38;5;28;01mreturn\u001b[39;00m \u001b[43mpandas_sql\u001b[49m\u001b[38;5;241;43m.\u001b[39;49m\u001b[43mread_query\u001b[49m\u001b[43m(\u001b[49m\n\u001b[0;32m    398\u001b[0m \u001b[43m    \u001b[49m\u001b[43msql\u001b[49m\u001b[43m,\u001b[49m\n\u001b[0;32m    399\u001b[0m \u001b[43m    \u001b[49m\u001b[43mindex_col\u001b[49m\u001b[38;5;241;43m=\u001b[39;49m\u001b[43mindex_col\u001b[49m\u001b[43m,\u001b[49m\n\u001b[0;32m    400\u001b[0m \u001b[43m    \u001b[49m\u001b[43mparams\u001b[49m\u001b[38;5;241;43m=\u001b[39;49m\u001b[43mparams\u001b[49m\u001b[43m,\u001b[49m\n\u001b[0;32m    401\u001b[0m \u001b[43m    \u001b[49m\u001b[43mcoerce_float\u001b[49m\u001b[38;5;241;43m=\u001b[39;49m\u001b[43mcoerce_float\u001b[49m\u001b[43m,\u001b[49m\n\u001b[0;32m    402\u001b[0m \u001b[43m    \u001b[49m\u001b[43mparse_dates\u001b[49m\u001b[38;5;241;43m=\u001b[39;49m\u001b[43mparse_dates\u001b[49m\u001b[43m,\u001b[49m\n\u001b[0;32m    403\u001b[0m \u001b[43m    \u001b[49m\u001b[43mchunksize\u001b[49m\u001b[38;5;241;43m=\u001b[39;49m\u001b[43mchunksize\u001b[49m\u001b[43m,\u001b[49m\n\u001b[0;32m    404\u001b[0m \u001b[43m    \u001b[49m\u001b[43mdtype\u001b[49m\u001b[38;5;241;43m=\u001b[39;49m\u001b[43mdtype\u001b[49m\u001b[43m,\u001b[49m\n\u001b[0;32m    405\u001b[0m \u001b[43m\u001b[49m\u001b[43m)\u001b[49m\n",
      "File \u001b[1;32m~\\anaconda3\\lib\\site-packages\\pandas\\io\\sql.py:2078\u001b[0m, in \u001b[0;36mSQLiteDatabase.read_query\u001b[1;34m(self, sql, index_col, coerce_float, params, parse_dates, chunksize, dtype)\u001b[0m\n\u001b[0;32m   2066\u001b[0m \u001b[38;5;28;01mdef\u001b[39;00m \u001b[38;5;21mread_query\u001b[39m(\n\u001b[0;32m   2067\u001b[0m     \u001b[38;5;28mself\u001b[39m,\n\u001b[0;32m   2068\u001b[0m     sql,\n\u001b[1;32m   (...)\u001b[0m\n\u001b[0;32m   2074\u001b[0m     dtype: DtypeArg \u001b[38;5;241m|\u001b[39m \u001b[38;5;28;01mNone\u001b[39;00m \u001b[38;5;241m=\u001b[39m \u001b[38;5;28;01mNone\u001b[39;00m,\n\u001b[0;32m   2075\u001b[0m ) \u001b[38;5;241m-\u001b[39m\u001b[38;5;241m>\u001b[39m DataFrame \u001b[38;5;241m|\u001b[39m Iterator[DataFrame]:\n\u001b[0;32m   2077\u001b[0m     args \u001b[38;5;241m=\u001b[39m _convert_params(sql, params)\n\u001b[1;32m-> 2078\u001b[0m     cursor \u001b[38;5;241m=\u001b[39m \u001b[38;5;28;43mself\u001b[39;49m\u001b[38;5;241;43m.\u001b[39;49m\u001b[43mexecute\u001b[49m\u001b[43m(\u001b[49m\u001b[38;5;241;43m*\u001b[39;49m\u001b[43margs\u001b[49m\u001b[43m)\u001b[49m\n\u001b[0;32m   2079\u001b[0m     columns \u001b[38;5;241m=\u001b[39m [col_desc[\u001b[38;5;241m0\u001b[39m] \u001b[38;5;28;01mfor\u001b[39;00m col_desc \u001b[38;5;129;01min\u001b[39;00m cursor\u001b[38;5;241m.\u001b[39mdescription]\n\u001b[0;32m   2081\u001b[0m     \u001b[38;5;28;01mif\u001b[39;00m chunksize \u001b[38;5;129;01mis\u001b[39;00m \u001b[38;5;129;01mnot\u001b[39;00m \u001b[38;5;28;01mNone\u001b[39;00m:\n",
      "File \u001b[1;32m~\\anaconda3\\lib\\site-packages\\pandas\\io\\sql.py:2030\u001b[0m, in \u001b[0;36mSQLiteDatabase.execute\u001b[1;34m(self, *args, **kwargs)\u001b[0m\n\u001b[0;32m   2027\u001b[0m     \u001b[38;5;28;01mraise\u001b[39;00m ex \u001b[38;5;28;01mfrom\u001b[39;00m \u001b[38;5;21;01minner_exc\u001b[39;00m\n\u001b[0;32m   2029\u001b[0m ex \u001b[38;5;241m=\u001b[39m DatabaseError(\u001b[38;5;124mf\u001b[39m\u001b[38;5;124m\"\u001b[39m\u001b[38;5;124mExecution failed on sql \u001b[39m\u001b[38;5;124m'\u001b[39m\u001b[38;5;132;01m{\u001b[39;00margs[\u001b[38;5;241m0\u001b[39m]\u001b[38;5;132;01m}\u001b[39;00m\u001b[38;5;124m'\u001b[39m\u001b[38;5;124m: \u001b[39m\u001b[38;5;132;01m{\u001b[39;00mexc\u001b[38;5;132;01m}\u001b[39;00m\u001b[38;5;124m\"\u001b[39m)\n\u001b[1;32m-> 2030\u001b[0m \u001b[38;5;28;01mraise\u001b[39;00m ex \u001b[38;5;28;01mfrom\u001b[39;00m \u001b[38;5;21;01mexc\u001b[39;00m\n",
      "\u001b[1;31mDatabaseError\u001b[0m: Execution failed on sql 'SELECT * FROM employee': relation \"employee\" does not exist\nLINE 1: SELECT * FROM employee\n                      ^\n"
     ]
    }
   ],
   "source": [
    "cur.execute(\"\"\"\n",
    "    DROP TABLE IF EXISTS employee \"\"\")\n",
    "conn.commit()\n",
    "# sql_cmd5 = \"SELECT * FROM employee\"\n",
    "# data5 = pd.read_sql_query(sql_cmd5, conn)\n",
    "# print(data5)\n",
    "print(pd.read_sql_query(sql_cmd5, conn))"
   ]
  },
  {
   "cell_type": "code",
   "execution_count": 22,
   "id": "0f01a591-d34f-475a-b0e1-d73d76596c51",
   "metadata": {},
   "outputs": [
    {
     "name": "stdout",
     "output_type": "stream",
     "text": [
      "\n",
      "    SELECT table_name\n",
      "    FROM information_schema.tables\n",
      "    WHERE table_schema = 'public'\n",
      "    ORDER BY table_name\n",
      "--------------------------------------------------------------------------------\n",
      "                table_name\n",
      "0               categories\n",
      "1   customer_customer_demo\n",
      "2    customer_demographics\n",
      "3                customers\n",
      "4     employee_territories\n",
      "5                employees\n",
      "6            order_details\n",
      "7                   orders\n",
      "8                 products\n",
      "9                   region\n",
      "10                shippers\n",
      "11               suppliers\n",
      "12             territories\n",
      "13               us_states\n"
     ]
    },
    {
     "name": "stderr",
     "output_type": "stream",
     "text": [
      "C:\\Users\\j\\AppData\\Local\\Temp\\ipykernel_1628\\3879726544.py:8: UserWarning: pandas only supports SQLAlchemy connectable (engine/connection) or database string URI or sqlite3 DBAPI2 connection. Other DBAPI2 objects are not tested. Please consider using SQLAlchemy.\n",
      "  data = pd.read_sql_query(sql_cmd, conn)\n"
     ]
    }
   ],
   "source": [
    "sql_cmd = '''\n",
    "    SELECT table_name\n",
    "    FROM information_schema.tables\n",
    "    WHERE table_schema = 'public'\n",
    "    ORDER BY table_name'''\n",
    "print(sql_cmd)\n",
    "print(\"-\"*80)\n",
    "data = pd.read_sql_query(sql_cmd, conn)\n",
    "print(data)"
   ]
  },
  {
   "cell_type": "code",
   "execution_count": 23,
   "id": "16d76177-b3e4-4afa-8987-efc0e34c5f76",
   "metadata": {},
   "outputs": [],
   "source": [
    "conn.close()"
   ]
  },
  {
   "cell_type": "markdown",
   "id": "c32ba0c8-9515-4951-ba36-ed5d0fc7374d",
   "metadata": {},
   "source": [
    "### Reading a google sheet...\n",
    "import gspread\n",
    "from oauth2client.service_account import ServiceAccountCredentials\n",
    "import pandas as pd\n",
    "\n",
    "# set up credentials\n",
    "scope = ['https://www.googleapis.com/auth/drive']\n",
    "creds = ServiceAccountCredentials.from_json_keyfile_name('path/to/service/account/keyfile.json', scope)\n",
    "client = gspread.authorize(creds)\n",
    "\n",
    "# open the Google Sheet\n",
    "sheet = client.open('Name of the Google Sheet').worksheet('Name of the Worksheet')\n",
    "\n",
    "# read the data into a Pandas DataFrame\n",
    "data = sheet.get_all_values()\n",
    "df = pd.DataFrame(data[1:], columns=data[0])\n",
    "https://gspread.readthedocs.io/en/latest/oauth2.html#for-bots-using-service-account"
   ]
  },
  {
   "cell_type": "markdown",
   "id": "63a9a00d-bf65-4cf9-8d3c-68395ff8f31f",
   "metadata": {},
   "source": [
    "Links:\n",
    "- https://plotly.com/python/\n",
    "- https://www.python-graph-gallery.com/\n",
    "- https://colab.research.google.com/drive/1g_LHeU7m4ikOs03K__sMN7eTvtJF7h68?usp=sharing"
   ]
  },
  {
   "cell_type": "code",
   "execution_count": null,
   "id": "76af69a1-c447-4ee5-bc24-adc6a5018bc4",
   "metadata": {},
   "outputs": [],
   "source": []
  }
 ],
 "metadata": {
  "kernelspec": {
   "display_name": "Python 3 (ipykernel)",
   "language": "python",
   "name": "python3"
  },
  "language_info": {
   "codemirror_mode": {
    "name": "ipython",
    "version": 3
   },
   "file_extension": ".py",
   "mimetype": "text/x-python",
   "name": "python",
   "nbconvert_exporter": "python",
   "pygments_lexer": "ipython3",
   "version": "3.10.9"
  }
 },
 "nbformat": 4,
 "nbformat_minor": 5
}
